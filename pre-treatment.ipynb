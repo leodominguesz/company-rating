{
 "cells": [
  {
   "cell_type": "markdown",
   "metadata": {},
   "source": [
    "# Limpando a base"
   ]
  },
  {
   "cell_type": "markdown",
   "metadata": {},
   "source": [
    "Pacotes"
   ]
  },
  {
   "cell_type": "code",
   "execution_count": null,
   "metadata": {},
   "outputs": [],
   "source": [
    "install.packages(\"readxl\")\n",
    "install.packages(\"stringdist\")\n",
    "install.packages(\"remotes\")\n",
    "remotes::install_github(\"EmilBode/EmilMisc\")\n",
    "install.packages(\"lubridate\")\n",
    "install.packages(\"stringr\")\n",
    "install.packages(\"dplyr\")\n",
    "install.packages(\"tidyr\")\n",
    "install.packages(\"zoo\")\n",
    "install.packages(\"openxlsx\")\n",
    "install.packages(\"readxl\")\n",
    "install.packages(\"magrittr\")\n",
    "install.packages(\"purrr\")\n",
    "install.packages(\"ggplot2\")"
   ]
  },
  {
   "cell_type": "code",
   "execution_count": 2,
   "metadata": {},
   "outputs": [],
   "source": [
    "rm(list = ls())\n",
    "setwd(\"D:\\\\Mestrado\\\\2º semestre\\\\Ciencia de Dados para Processos de Negocio\\\\Trabalho final\\\\Projeto\")\n",
    "# Instalar Pacotes\n",
    "library(readxl)\n",
    "library(stringdist)\n",
    "library(EmilMisc)\n",
    "library(lubridate)\n",
    "library(stringr)\n",
    "library(dplyr)\n",
    "library(tidyr)\n",
    "library(zoo)\n",
    "library(openxlsx)\n",
    "library(readxl)\n",
    "library(magrittr)\n",
    "library(purrr)\n",
    "library(ggplot2)"
   ]
  },
  {
   "cell_type": "markdown",
   "metadata": {},
   "source": [
    "Importa dados"
   ]
  },
  {
   "cell_type": "code",
   "execution_count": 3,
   "metadata": {},
   "outputs": [
    {
     "data": {
      "text/html": [
       "<table>\n",
       "<thead><tr><th scope=col>rating_agency_name</th><th scope=col>file_creating_date</th><th scope=col>sec_category</th><th scope=col>issuer_name</th><th scope=col>legal_entity_identifier</th><th scope=col>object_type_rated</th><th scope=col>instrument_name</th><th scope=col>CUSIP_number</th><th scope=col>coupon_date</th><th scope=col>maturity_date</th><th scope=col>...</th><th scope=col>issuer_identifier_schema</th><th scope=col>instrument_identifier</th><th scope=col>instrument_identifier_schema</th><th scope=col>central_index_key</th><th scope=col>obligor_identifier</th><th scope=col>obligor_identifier_schema</th><th scope=col>obligor_identifier_other</th><th scope=col>obligor_sec_category</th><th scope=col>obligor_industry_group</th><th scope=col>obligor_name</th></tr></thead>\n",
       "<tbody>\n",
       "\t<tr><td>Kroll Bond Rating Agency, Inc.</td><td>2017-12-01                    </td><td>Financial                     </td><td>Air Lease Corporation         </td><td>NA                            </td><td>Instrument                    </td><td>Air Lease Corporation  SR NT  </td><td>00912XAF1                     </td><td>0.05625                       </td><td>2017-04-01                    </td><td>...                           </td><td>NRSRO                         </td><td>NA                            </td><td>NA                            </td><td>NA                            </td><td>NA                            </td><td>NA                            </td><td>NA                            </td><td>NA                            </td><td>NA                            </td><td>NA                            </td></tr>\n",
       "\t<tr><td>Kroll Bond Rating Agency, Inc.</td><td>2017-12-01                    </td><td>Financial                     </td><td>Air Lease Corporation         </td><td>NA                            </td><td>Instrument                    </td><td>Air Lease Corporation  SR NT  </td><td>00912XAF1                     </td><td>0.05625                       </td><td>2017-04-01                    </td><td>...                           </td><td>NRSRO                         </td><td>NA                            </td><td>NA                            </td><td>NA                            </td><td>NA                            </td><td>NA                            </td><td>NA                            </td><td>NA                            </td><td>NA                            </td><td>NA                            </td></tr>\n",
       "\t<tr><td>Kroll Bond Rating Agency, Inc.</td><td>2017-12-01                    </td><td>Financial                     </td><td>Air Lease Corporation         </td><td>NA                            </td><td>Instrument                    </td><td>Air Lease Corporation  SR NT  </td><td>00912XAF1                     </td><td>0.05625                       </td><td>2017-04-01                    </td><td>...                           </td><td>NRSRO                         </td><td>NA                            </td><td>NA                            </td><td>NA                            </td><td>NA                            </td><td>NA                            </td><td>NA                            </td><td>NA                            </td><td>NA                            </td><td>NA                            </td></tr>\n",
       "\t<tr><td>Kroll Bond Rating Agency, Inc.</td><td>2017-12-01                    </td><td>Financial                     </td><td>Air Lease Corporation         </td><td>NA                            </td><td>Instrument                    </td><td>Air Lease Corporation  SR NT  </td><td>00912XAG9                     </td><td>0.04500                       </td><td>2016-01-15                    </td><td>...                           </td><td>NRSRO                         </td><td>NA                            </td><td>NA                            </td><td>NA                            </td><td>NA                            </td><td>NA                            </td><td>NA                            </td><td>NA                            </td><td>NA                            </td><td>NA                            </td></tr>\n",
       "\t<tr><td>Kroll Bond Rating Agency, Inc.</td><td>2017-12-01                    </td><td>Financial                     </td><td>Air Lease Corporation         </td><td>NA                            </td><td>Instrument                    </td><td>Air Lease Corporation  SR NT  </td><td>00912XAG9                     </td><td>0.04500                       </td><td>2016-01-15                    </td><td>...                           </td><td>NRSRO                         </td><td>NA                            </td><td>NA                            </td><td>NA                            </td><td>NA                            </td><td>NA                            </td><td>NA                            </td><td>NA                            </td><td>NA                            </td><td>NA                            </td></tr>\n",
       "\t<tr><td>Kroll Bond Rating Agency, Inc.</td><td>2017-12-01                    </td><td>Financial                     </td><td>Air Lease Corporation         </td><td>NA                            </td><td>Instrument                    </td><td>Air Lease Corporation  SR NT  </td><td>00912XAG9                     </td><td>0.04500                       </td><td>2016-01-15                    </td><td>...                           </td><td>NRSRO                         </td><td>NA                            </td><td>NA                            </td><td>NA                            </td><td>NA                            </td><td>NA                            </td><td>NA                            </td><td>NA                            </td><td>NA                            </td><td>NA                            </td></tr>\n",
       "</tbody>\n",
       "</table>\n"
      ],
      "text/latex": [
       "\\begin{tabular}{r|llllllllllllllllllllllllllllllll}\n",
       " rating\\_agency\\_name & file\\_creating\\_date & sec\\_category & issuer\\_name & legal\\_entity\\_identifier & object\\_type\\_rated & instrument\\_name & CUSIP\\_number & coupon\\_date & maturity\\_date & ... & issuer\\_identifier\\_schema & instrument\\_identifier & instrument\\_identifier\\_schema & central\\_index\\_key & obligor\\_identifier & obligor\\_identifier\\_schema & obligor\\_identifier\\_other & obligor\\_sec\\_category & obligor\\_industry\\_group & obligor\\_name\\\\\n",
       "\\hline\n",
       "\t Kroll Bond Rating Agency, Inc. & 2017-12-01                     & Financial                      & Air Lease Corporation          & NA                             & Instrument                     & Air Lease Corporation  SR NT   & 00912XAF1                      & 0.05625                        & 2017-04-01                     & ...                            & NRSRO                          & NA                             & NA                             & NA                             & NA                             & NA                             & NA                             & NA                             & NA                             & NA                            \\\\\n",
       "\t Kroll Bond Rating Agency, Inc. & 2017-12-01                     & Financial                      & Air Lease Corporation          & NA                             & Instrument                     & Air Lease Corporation  SR NT   & 00912XAF1                      & 0.05625                        & 2017-04-01                     & ...                            & NRSRO                          & NA                             & NA                             & NA                             & NA                             & NA                             & NA                             & NA                             & NA                             & NA                            \\\\\n",
       "\t Kroll Bond Rating Agency, Inc. & 2017-12-01                     & Financial                      & Air Lease Corporation          & NA                             & Instrument                     & Air Lease Corporation  SR NT   & 00912XAF1                      & 0.05625                        & 2017-04-01                     & ...                            & NRSRO                          & NA                             & NA                             & NA                             & NA                             & NA                             & NA                             & NA                             & NA                             & NA                            \\\\\n",
       "\t Kroll Bond Rating Agency, Inc. & 2017-12-01                     & Financial                      & Air Lease Corporation          & NA                             & Instrument                     & Air Lease Corporation  SR NT   & 00912XAG9                      & 0.04500                        & 2016-01-15                     & ...                            & NRSRO                          & NA                             & NA                             & NA                             & NA                             & NA                             & NA                             & NA                             & NA                             & NA                            \\\\\n",
       "\t Kroll Bond Rating Agency, Inc. & 2017-12-01                     & Financial                      & Air Lease Corporation          & NA                             & Instrument                     & Air Lease Corporation  SR NT   & 00912XAG9                      & 0.04500                        & 2016-01-15                     & ...                            & NRSRO                          & NA                             & NA                             & NA                             & NA                             & NA                             & NA                             & NA                             & NA                             & NA                            \\\\\n",
       "\t Kroll Bond Rating Agency, Inc. & 2017-12-01                     & Financial                      & Air Lease Corporation          & NA                             & Instrument                     & Air Lease Corporation  SR NT   & 00912XAG9                      & 0.04500                        & 2016-01-15                     & ...                            & NRSRO                          & NA                             & NA                             & NA                             & NA                             & NA                             & NA                             & NA                             & NA                             & NA                            \\\\\n",
       "\\end{tabular}\n"
      ],
      "text/markdown": [
       "\n",
       "| rating_agency_name | file_creating_date | sec_category | issuer_name | legal_entity_identifier | object_type_rated | instrument_name | CUSIP_number | coupon_date | maturity_date | ... | issuer_identifier_schema | instrument_identifier | instrument_identifier_schema | central_index_key | obligor_identifier | obligor_identifier_schema | obligor_identifier_other | obligor_sec_category | obligor_industry_group | obligor_name |\n",
       "|---|---|---|---|---|---|---|---|---|---|---|---|---|---|---|---|---|---|---|---|---|\n",
       "| Kroll Bond Rating Agency, Inc. | 2017-12-01                     | Financial                      | Air Lease Corporation          | NA                             | Instrument                     | Air Lease Corporation  SR NT   | 00912XAF1                      | 0.05625                        | 2017-04-01                     | ...                            | NRSRO                          | NA                             | NA                             | NA                             | NA                             | NA                             | NA                             | NA                             | NA                             | NA                             |\n",
       "| Kroll Bond Rating Agency, Inc. | 2017-12-01                     | Financial                      | Air Lease Corporation          | NA                             | Instrument                     | Air Lease Corporation  SR NT   | 00912XAF1                      | 0.05625                        | 2017-04-01                     | ...                            | NRSRO                          | NA                             | NA                             | NA                             | NA                             | NA                             | NA                             | NA                             | NA                             | NA                             |\n",
       "| Kroll Bond Rating Agency, Inc. | 2017-12-01                     | Financial                      | Air Lease Corporation          | NA                             | Instrument                     | Air Lease Corporation  SR NT   | 00912XAF1                      | 0.05625                        | 2017-04-01                     | ...                            | NRSRO                          | NA                             | NA                             | NA                             | NA                             | NA                             | NA                             | NA                             | NA                             | NA                             |\n",
       "| Kroll Bond Rating Agency, Inc. | 2017-12-01                     | Financial                      | Air Lease Corporation          | NA                             | Instrument                     | Air Lease Corporation  SR NT   | 00912XAG9                      | 0.04500                        | 2016-01-15                     | ...                            | NRSRO                          | NA                             | NA                             | NA                             | NA                             | NA                             | NA                             | NA                             | NA                             | NA                             |\n",
       "| Kroll Bond Rating Agency, Inc. | 2017-12-01                     | Financial                      | Air Lease Corporation          | NA                             | Instrument                     | Air Lease Corporation  SR NT   | 00912XAG9                      | 0.04500                        | 2016-01-15                     | ...                            | NRSRO                          | NA                             | NA                             | NA                             | NA                             | NA                             | NA                             | NA                             | NA                             | NA                             |\n",
       "| Kroll Bond Rating Agency, Inc. | 2017-12-01                     | Financial                      | Air Lease Corporation          | NA                             | Instrument                     | Air Lease Corporation  SR NT   | 00912XAG9                      | 0.04500                        | 2016-01-15                     | ...                            | NRSRO                          | NA                             | NA                             | NA                             | NA                             | NA                             | NA                             | NA                             | NA                             | NA                             |\n",
       "\n"
      ],
      "text/plain": [
       "  rating_agency_name             file_creating_date sec_category\n",
       "1 Kroll Bond Rating Agency, Inc. 2017-12-01         Financial   \n",
       "2 Kroll Bond Rating Agency, Inc. 2017-12-01         Financial   \n",
       "3 Kroll Bond Rating Agency, Inc. 2017-12-01         Financial   \n",
       "4 Kroll Bond Rating Agency, Inc. 2017-12-01         Financial   \n",
       "5 Kroll Bond Rating Agency, Inc. 2017-12-01         Financial   \n",
       "6 Kroll Bond Rating Agency, Inc. 2017-12-01         Financial   \n",
       "  issuer_name           legal_entity_identifier object_type_rated\n",
       "1 Air Lease Corporation NA                      Instrument       \n",
       "2 Air Lease Corporation NA                      Instrument       \n",
       "3 Air Lease Corporation NA                      Instrument       \n",
       "4 Air Lease Corporation NA                      Instrument       \n",
       "5 Air Lease Corporation NA                      Instrument       \n",
       "6 Air Lease Corporation NA                      Instrument       \n",
       "  instrument_name              CUSIP_number coupon_date maturity_date ...\n",
       "1 Air Lease Corporation  SR NT 00912XAF1    0.05625     2017-04-01    ...\n",
       "2 Air Lease Corporation  SR NT 00912XAF1    0.05625     2017-04-01    ...\n",
       "3 Air Lease Corporation  SR NT 00912XAF1    0.05625     2017-04-01    ...\n",
       "4 Air Lease Corporation  SR NT 00912XAG9    0.04500     2016-01-15    ...\n",
       "5 Air Lease Corporation  SR NT 00912XAG9    0.04500     2016-01-15    ...\n",
       "6 Air Lease Corporation  SR NT 00912XAG9    0.04500     2016-01-15    ...\n",
       "  issuer_identifier_schema instrument_identifier instrument_identifier_schema\n",
       "1 NRSRO                    NA                    NA                          \n",
       "2 NRSRO                    NA                    NA                          \n",
       "3 NRSRO                    NA                    NA                          \n",
       "4 NRSRO                    NA                    NA                          \n",
       "5 NRSRO                    NA                    NA                          \n",
       "6 NRSRO                    NA                    NA                          \n",
       "  central_index_key obligor_identifier obligor_identifier_schema\n",
       "1 NA                NA                 NA                       \n",
       "2 NA                NA                 NA                       \n",
       "3 NA                NA                 NA                       \n",
       "4 NA                NA                 NA                       \n",
       "5 NA                NA                 NA                       \n",
       "6 NA                NA                 NA                       \n",
       "  obligor_identifier_other obligor_sec_category obligor_industry_group\n",
       "1 NA                       NA                   NA                    \n",
       "2 NA                       NA                   NA                    \n",
       "3 NA                       NA                   NA                    \n",
       "4 NA                       NA                   NA                    \n",
       "5 NA                       NA                   NA                    \n",
       "6 NA                       NA                   NA                    \n",
       "  obligor_name\n",
       "1 NA          \n",
       "2 NA          \n",
       "3 NA          \n",
       "4 NA          \n",
       "5 NA          \n",
       "6 NA          "
      ]
     },
     "metadata": {},
     "output_type": "display_data"
    }
   ],
   "source": [
    "Rating_ag <- read.csv(\"ratings_for_upload.csv\", na=\"\")\n",
    "head(Rating_ag)"
   ]
  },
  {
   "cell_type": "code",
   "execution_count": 4,
   "metadata": {},
   "outputs": [
    {
     "data": {
      "text/html": [
       "<table>\n",
       "<thead><tr><th scope=col>Symbol</th><th scope=col>Description</th></tr></thead>\n",
       "<tbody>\n",
       "\t<tr><td>A                           </td><td>Agilent Technologies        </td></tr>\n",
       "\t<tr><td>AA                          </td><td>Alcoa Corp                  </td></tr>\n",
       "\t<tr><td>AAA                         </td><td>First Priority Clo Bond ETF </td></tr>\n",
       "\t<tr><td>AAAU                        </td><td>Perth Mint Physical Gold ETF</td></tr>\n",
       "\t<tr><td>AACG                        </td><td>Ata Creativity Global       </td></tr>\n",
       "\t<tr><td>AACQ                        </td><td>Artius Acquisition Inc Cl A </td></tr>\n",
       "</tbody>\n",
       "</table>\n"
      ],
      "text/latex": [
       "\\begin{tabular}{r|ll}\n",
       " Symbol & Description\\\\\n",
       "\\hline\n",
       "\t A                            & Agilent Technologies        \\\\\n",
       "\t AA                           & Alcoa Corp                  \\\\\n",
       "\t AAA                          & First Priority Clo Bond ETF \\\\\n",
       "\t AAAU                         & Perth Mint Physical Gold ETF\\\\\n",
       "\t AACG                         & Ata Creativity Global       \\\\\n",
       "\t AACQ                         & Artius Acquisition Inc Cl A \\\\\n",
       "\\end{tabular}\n"
      ],
      "text/markdown": [
       "\n",
       "| Symbol | Description |\n",
       "|---|---|\n",
       "| A                            | Agilent Technologies         |\n",
       "| AA                           | Alcoa Corp                   |\n",
       "| AAA                          | First Priority Clo Bond ETF  |\n",
       "| AAAU                         | Perth Mint Physical Gold ETF |\n",
       "| AACG                         | Ata Creativity Global        |\n",
       "| AACQ                         | Artius Acquisition Inc Cl A  |\n",
       "\n"
      ],
      "text/plain": [
       "  Symbol Description                 \n",
       "1 A      Agilent Technologies        \n",
       "2 AA     Alcoa Corp                  \n",
       "3 AAA    First Priority Clo Bond ETF \n",
       "4 AAAU   Perth Mint Physical Gold ETF\n",
       "5 AACG   Ata Creativity Global       \n",
       "6 AACQ   Artius Acquisition Inc Cl A "
      ]
     },
     "metadata": {},
     "output_type": "display_data"
    }
   ],
   "source": [
    "Ticker <- read.xlsx(\"Atributos Empresas EUA e Ratings.xlsx\", sheet = \"Tickers\")\n",
    "head(Ticker)"
   ]
  },
  {
   "cell_type": "markdown",
   "metadata": {},
   "source": [
    "Pré-processamento"
   ]
  },
  {
   "cell_type": "code",
   "execution_count": 5,
   "metadata": {},
   "outputs": [
    {
     "name": "stdout",
     "output_type": "stream",
     "text": [
      "[1] 8442455       6\n"
     ]
    },
    {
     "data": {
      "text/html": [
       "<table>\n",
       "<thead><tr><th scope=col>rating_agency_name</th><th scope=col>sec_category</th><th scope=col>issuer_name</th><th scope=col>CUSIP_number</th><th scope=col>rating</th><th scope=col>rating_action_date</th></tr></thead>\n",
       "<tbody>\n",
       "\t<tr><td>Kroll Bond Rating Agency, Inc.</td><td>Financial                     </td><td>Air Lease Corporation         </td><td>00912XAF1                     </td><td>A-                            </td><td>2013-05-09                    </td></tr>\n",
       "\t<tr><td>Kroll Bond Rating Agency, Inc.</td><td>Financial                     </td><td>Air Lease Corporation         </td><td>00912XAF1                     </td><td>A-                            </td><td>2015-01-09                    </td></tr>\n",
       "\t<tr><td>Kroll Bond Rating Agency, Inc.</td><td>Financial                     </td><td>Air Lease Corporation         </td><td>00912XAF1                     </td><td>A-                            </td><td>2015-12-07                    </td></tr>\n",
       "\t<tr><td>Kroll Bond Rating Agency, Inc.</td><td>Financial                     </td><td>Air Lease Corporation         </td><td>00912XAG9                     </td><td>A-                            </td><td>2013-05-09                    </td></tr>\n",
       "\t<tr><td>Kroll Bond Rating Agency, Inc.</td><td>Financial                     </td><td>Air Lease Corporation         </td><td>00912XAG9                     </td><td>A-                            </td><td>2015-01-09                    </td></tr>\n",
       "\t<tr><td>Kroll Bond Rating Agency, Inc.</td><td>Financial                     </td><td>Air Lease Corporation         </td><td>00912XAG9                     </td><td>A-                            </td><td>2015-12-07                    </td></tr>\n",
       "</tbody>\n",
       "</table>\n"
      ],
      "text/latex": [
       "\\begin{tabular}{r|llllll}\n",
       " rating\\_agency\\_name & sec\\_category & issuer\\_name & CUSIP\\_number & rating & rating\\_action\\_date\\\\\n",
       "\\hline\n",
       "\t Kroll Bond Rating Agency, Inc. & Financial                      & Air Lease Corporation          & 00912XAF1                      & A-                             & 2013-05-09                    \\\\\n",
       "\t Kroll Bond Rating Agency, Inc. & Financial                      & Air Lease Corporation          & 00912XAF1                      & A-                             & 2015-01-09                    \\\\\n",
       "\t Kroll Bond Rating Agency, Inc. & Financial                      & Air Lease Corporation          & 00912XAF1                      & A-                             & 2015-12-07                    \\\\\n",
       "\t Kroll Bond Rating Agency, Inc. & Financial                      & Air Lease Corporation          & 00912XAG9                      & A-                             & 2013-05-09                    \\\\\n",
       "\t Kroll Bond Rating Agency, Inc. & Financial                      & Air Lease Corporation          & 00912XAG9                      & A-                             & 2015-01-09                    \\\\\n",
       "\t Kroll Bond Rating Agency, Inc. & Financial                      & Air Lease Corporation          & 00912XAG9                      & A-                             & 2015-12-07                    \\\\\n",
       "\\end{tabular}\n"
      ],
      "text/markdown": [
       "\n",
       "| rating_agency_name | sec_category | issuer_name | CUSIP_number | rating | rating_action_date |\n",
       "|---|---|---|---|---|---|\n",
       "| Kroll Bond Rating Agency, Inc. | Financial                      | Air Lease Corporation          | 00912XAF1                      | A-                             | 2013-05-09                     |\n",
       "| Kroll Bond Rating Agency, Inc. | Financial                      | Air Lease Corporation          | 00912XAF1                      | A-                             | 2015-01-09                     |\n",
       "| Kroll Bond Rating Agency, Inc. | Financial                      | Air Lease Corporation          | 00912XAF1                      | A-                             | 2015-12-07                     |\n",
       "| Kroll Bond Rating Agency, Inc. | Financial                      | Air Lease Corporation          | 00912XAG9                      | A-                             | 2013-05-09                     |\n",
       "| Kroll Bond Rating Agency, Inc. | Financial                      | Air Lease Corporation          | 00912XAG9                      | A-                             | 2015-01-09                     |\n",
       "| Kroll Bond Rating Agency, Inc. | Financial                      | Air Lease Corporation          | 00912XAG9                      | A-                             | 2015-12-07                     |\n",
       "\n"
      ],
      "text/plain": [
       "  rating_agency_name             sec_category issuer_name          \n",
       "1 Kroll Bond Rating Agency, Inc. Financial    Air Lease Corporation\n",
       "2 Kroll Bond Rating Agency, Inc. Financial    Air Lease Corporation\n",
       "3 Kroll Bond Rating Agency, Inc. Financial    Air Lease Corporation\n",
       "4 Kroll Bond Rating Agency, Inc. Financial    Air Lease Corporation\n",
       "5 Kroll Bond Rating Agency, Inc. Financial    Air Lease Corporation\n",
       "6 Kroll Bond Rating Agency, Inc. Financial    Air Lease Corporation\n",
       "  CUSIP_number rating rating_action_date\n",
       "1 00912XAF1    A-     2013-05-09        \n",
       "2 00912XAF1    A-     2015-01-09        \n",
       "3 00912XAF1    A-     2015-12-07        \n",
       "4 00912XAG9    A-     2013-05-09        \n",
       "5 00912XAG9    A-     2015-01-09        \n",
       "6 00912XAG9    A-     2015-12-07        "
      ]
     },
     "metadata": {},
     "output_type": "display_data"
    }
   ],
   "source": [
    "# Arquivo com Ratings emitidos\n",
    "# 1- Seleção de Atributos - Dados Rating\n",
    "# Atibutos selecionados: Rating Agency Name / SEC Category / Issuer Name / CUSIP Number / Rating / Rating Action Date\n",
    "Rating_1 <- Rating_ag[,c(1,3,4,8,13,14)] #selecionando atributos\n",
    "Rating_1 <- data.frame(Rating_1)\n",
    "print(dim(Rating_1))\n",
    "head(Rating_1)"
   ]
  },
  {
   "cell_type": "code",
   "execution_count": 6,
   "metadata": {},
   "outputs": [
    {
     "name": "stdout",
     "output_type": "stream",
     "text": [
      "[1] 7303539       6\n"
     ]
    }
   ],
   "source": [
    "# 2- Identificando dados faltantes e eliminando linhas com dados faltantes\n",
    "Rating_2 <- na.omit(Rating_1) # Elimina linhas com valores NA\n",
    "print(dim(Rating_2))"
   ]
  },
  {
   "cell_type": "code",
   "execution_count": 7,
   "metadata": {},
   "outputs": [
    {
     "name": "stdout",
     "output_type": "stream",
     "text": [
      "[1] 6023195       6\n"
     ]
    }
   ],
   "source": [
    "# 3- Eliminando linhas com caracteres estranhos aos Ratings emitidos por agências de risco - Ratings começam com A, B, C ou D\n",
    "Rating_3 <- subset(Rating_2, str_sub(Rating_2$rating, end = 1) == \"A\" | \n",
    "                     str_sub(Rating_2$rating, end = 1) == \"B\" |\n",
    "                     str_sub(Rating_2$rating, end = 1) == \"C\" | \n",
    "                     str_sub(Rating_2$rating, end = 1) == \"D\")\n",
    "print(dim(Rating_3))"
   ]
  },
  {
   "cell_type": "code",
   "execution_count": 8,
   "metadata": {},
   "outputs": [
    {
     "name": "stdout",
     "output_type": "stream",
     "text": [
      "[1] 229852      6\n"
     ]
    }
   ],
   "source": [
    "#Limpezas finais\n",
    "Rating_3[,5] <- str_sub(Rating_3$rating, end = 4)#nao tem rating com + de 4 caracteres\n",
    "\n",
    "#4- Eliminando linhas que contem ratings que nao estao relacionados a Corporate companies e Financial\n",
    "Rating_3 <- subset(Rating_3, str_sub(Rating_3$sec_category, end = 9) == \"Corporate\"\n",
    "        | str_sub(Rating_3$sec_category, end = 9) == \"Financial\")\n",
    "print(dim(Rating_3))"
   ]
  },
  {
   "cell_type": "code",
   "execution_count": 9,
   "metadata": {},
   "outputs": [
    {
     "name": "stdout",
     "output_type": "stream",
     "text": [
      "[1] 227318      6\n"
     ]
    }
   ],
   "source": [
    "Rating_4 <- unique(Rating_3) # Elimina linhas duplicadas - mais de um rating por ano\n",
    "ratings <- data.frame(\"Agência\"=Rating_4[,1],\"Categoria\"=Rating_4[,2],\n",
    "                       \"Empresa\"=Rating_4[,3], \"CUSIP\"=Rating_4[,4],\n",
    "                       \"Rating\"=Rating_4[,5],\"Ano\"=Rating_4[,6],\n",
    "                      \"Emp-Ano\"=paste(Rating_4[,3],Rating_4[,6], sep=\"-\"))\n",
    "print(dim(Rating_4))"
   ]
  },
  {
   "cell_type": "code",
   "execution_count": 10,
   "metadata": {},
   "outputs": [],
   "source": [
    "ratings <-ratings[order(ratings$Empresa),]\n",
    "ratings$Agência <- toupper(ratings$Agência)\n",
    "ratings$Categoria <- toupper(ratings$Categoria)\n",
    "ratings$Empresa <- toupper(ratings$Empresa)\n",
    "ratings$Rating <- toupper(ratings$Rating)\n",
    "# 6- Salvando arquivo pós-processado\n",
    "write.xlsx(ratings, \"Rating pos processado.xlsx\")"
   ]
  },
  {
   "cell_type": "markdown",
   "metadata": {},
   "source": [
    "Carregando dados dos DFPs"
   ]
  },
  {
   "cell_type": "code",
   "execution_count": 13,
   "metadata": {},
   "outputs": [
    {
     "data": {
      "text/html": [
       "<table>\n",
       "<thead><tr><th scope=col>Ticker</th><th scope=col>Ano</th><th scope=col>Empresa</th><th scope=col>Concatenado</th><th scope=col>Total_Ativo</th><th scope=col>Total_Ativo_Circulante</th><th scope=col>Caixa</th><th scope=col>Aplicacoes_financeiras</th><th scope=col>Contas_a_receber</th><th scope=col>Estoque</th><th scope=col>...</th><th scope=col>Margem_Atividade</th><th scope=col>Margem_EBITDA</th><th scope=col>Margem_Operacional</th><th scope=col>Margem_Liquida</th><th scope=col>Retorno_Sobre_Ativo_Total</th><th scope=col>Retorno_Sobre_PL</th><th scope=col>Payout</th><th scope=col>Retention_Rate</th><th scope=col>Ratings</th><th scope=col>Agência</th></tr></thead>\n",
       "<tbody>\n",
       "\t<tr><td>FLWS                  </td><td>2011                  </td><td>1-800-FLOWERS.COM     </td><td>1-800-FLOWERS.COM-2011</td><td>259075000             </td><td>101625000             </td><td>21442000              </td><td>0                     </td><td>11916000              </td><td> 51185000             </td><td>...                   </td><td>0.02129760            </td><td>0.05189533            </td><td>0.01526031            </td><td>0.00865149            </td><td>0.02208627            </td><td>0.04015129            </td><td>0                     </td><td>1                     </td><td>NA                    </td><td>NA                    </td></tr>\n",
       "\t<tr><td>FLWS                  </td><td>2012                  </td><td>1-800-FLOWERS.COM     </td><td>1-800-FLOWERS.COM-2012</td><td>262213000             </td><td>113106000             </td><td>28854000              </td><td>0                     </td><td>11887000              </td><td> 53933000             </td><td>...                   </td><td>0.03353559            </td><td>0.06115330            </td><td>0.02981130            </td><td>0.02494074            </td><td>0.06729643            </td><td>0.10909563            </td><td>0                     </td><td>1                     </td><td>NA                    </td><td>NA                    </td></tr>\n",
       "\t<tr><td>FLWS                  </td><td>2013                  </td><td>1-800-FLOWERS.COM     </td><td>1-800-FLOWERS.COM-2013</td><td>250073000             </td><td> 92649000             </td><td>  154000              </td><td>0                     </td><td>14957000              </td><td> 55756000             </td><td>...                   </td><td>0.03505929            </td><td>0.06061751            </td><td>0.03371190            </td><td>0.01675194            </td><td>0.04926961            </td><td>0.07278861            </td><td>0                     </td><td>1                     </td><td>NA                    </td><td>NA                    </td></tr>\n",
       "\t<tr><td>FLWS                  </td><td>2014                  </td><td>1-800-FLOWERS.COM     </td><td>1-800-FLOWERS.COM-2014</td><td>267569000             </td><td> 91818000             </td><td> 5203000              </td><td>0                     </td><td>13339000              </td><td> 58520000             </td><td>...                   </td><td>0.03127409            </td><td>0.05751608            </td><td>0.02954868            </td><td>0.02032406            </td><td>0.05745060            </td><td>0.08259276            </td><td>0                     </td><td>1                     </td><td>NA                    </td><td>NA                    </td></tr>\n",
       "\t<tr><td>FLWS                  </td><td>2015                  </td><td>1-800-FLOWERS.COM     </td><td>1-800-FLOWERS.COM-2015</td><td>497073000             </td><td>155095000             </td><td>27940000              </td><td>0                     </td><td>16191000              </td><td> 93163000             </td><td>...                   </td><td>0.03215944            </td><td>0.05812809            </td><td>0.02702973            </td><td>0.01808907            </td><td>0.04081292            </td><td>0.09648714            </td><td>0                     </td><td>1                     </td><td>NA                    </td><td>NA                    </td></tr>\n",
       "\t<tr><td>FLWS                  </td><td>2016                  </td><td>1-800-FLOWERS.COM     </td><td>1-800-FLOWERS.COM-2016</td><td>502941000             </td><td>166659000             </td><td>27826000              </td><td>0                     </td><td>19123000              </td><td>103328000             </td><td>...                   </td><td>0.04954801            </td><td>0.07715528            </td><td>0.04385844            </td><td>0.03143584            </td><td>0.07331874            </td><td>0.15200795            </td><td>0                     </td><td>1                     </td><td>NA                    </td><td>NA                    </td></tr>\n",
       "</tbody>\n",
       "</table>\n"
      ],
      "text/latex": [
       "\\begin{tabular}{r|lllllllllllllllllllllllllllllllllllllllllllllllllllllllllllllllllllllllllllllllllllll}\n",
       " Ticker & Ano & Empresa & Concatenado & Total\\_Ativo & Total\\_Ativo\\_Circulante & Caixa & Aplicacoes\\_financeiras & Contas\\_a\\_receber & Estoque & ... & Margem\\_Atividade & Margem\\_EBITDA & Margem\\_Operacional & Margem\\_Liquida & Retorno\\_Sobre\\_Ativo\\_Total & Retorno\\_Sobre\\_PL & Payout & Retention\\_Rate & Ratings & Agência\\\\\n",
       "\\hline\n",
       "\t FLWS                   & 2011                   & 1-800-FLOWERS.COM      & 1-800-FLOWERS.COM-2011 & 259075000              & 101625000              & 21442000               & 0                      & 11916000               &  51185000              & ...                    & 0.02129760             & 0.05189533             & 0.01526031             & 0.00865149             & 0.02208627             & 0.04015129             & 0                      & 1                      & NA                     & NA                    \\\\\n",
       "\t FLWS                   & 2012                   & 1-800-FLOWERS.COM      & 1-800-FLOWERS.COM-2012 & 262213000              & 113106000              & 28854000               & 0                      & 11887000               &  53933000              & ...                    & 0.03353559             & 0.06115330             & 0.02981130             & 0.02494074             & 0.06729643             & 0.10909563             & 0                      & 1                      & NA                     & NA                    \\\\\n",
       "\t FLWS                   & 2013                   & 1-800-FLOWERS.COM      & 1-800-FLOWERS.COM-2013 & 250073000              &  92649000              &   154000               & 0                      & 14957000               &  55756000              & ...                    & 0.03505929             & 0.06061751             & 0.03371190             & 0.01675194             & 0.04926961             & 0.07278861             & 0                      & 1                      & NA                     & NA                    \\\\\n",
       "\t FLWS                   & 2014                   & 1-800-FLOWERS.COM      & 1-800-FLOWERS.COM-2014 & 267569000              &  91818000              &  5203000               & 0                      & 13339000               &  58520000              & ...                    & 0.03127409             & 0.05751608             & 0.02954868             & 0.02032406             & 0.05745060             & 0.08259276             & 0                      & 1                      & NA                     & NA                    \\\\\n",
       "\t FLWS                   & 2015                   & 1-800-FLOWERS.COM      & 1-800-FLOWERS.COM-2015 & 497073000              & 155095000              & 27940000               & 0                      & 16191000               &  93163000              & ...                    & 0.03215944             & 0.05812809             & 0.02702973             & 0.01808907             & 0.04081292             & 0.09648714             & 0                      & 1                      & NA                     & NA                    \\\\\n",
       "\t FLWS                   & 2016                   & 1-800-FLOWERS.COM      & 1-800-FLOWERS.COM-2016 & 502941000              & 166659000              & 27826000               & 0                      & 19123000               & 103328000              & ...                    & 0.04954801             & 0.07715528             & 0.04385844             & 0.03143584             & 0.07331874             & 0.15200795             & 0                      & 1                      & NA                     & NA                    \\\\\n",
       "\\end{tabular}\n"
      ],
      "text/markdown": [
       "\n",
       "| Ticker | Ano | Empresa | Concatenado | Total_Ativo | Total_Ativo_Circulante | Caixa | Aplicacoes_financeiras | Contas_a_receber | Estoque | ... | Margem_Atividade | Margem_EBITDA | Margem_Operacional | Margem_Liquida | Retorno_Sobre_Ativo_Total | Retorno_Sobre_PL | Payout | Retention_Rate | Ratings | Agência |\n",
       "|---|---|---|---|---|---|---|---|---|---|---|---|---|---|---|---|---|---|---|---|---|\n",
       "| FLWS                   | 2011                   | 1-800-FLOWERS.COM      | 1-800-FLOWERS.COM-2011 | 259075000              | 101625000              | 21442000               | 0                      | 11916000               |  51185000              | ...                    | 0.02129760             | 0.05189533             | 0.01526031             | 0.00865149             | 0.02208627             | 0.04015129             | 0                      | 1                      | NA                     | NA                     |\n",
       "| FLWS                   | 2012                   | 1-800-FLOWERS.COM      | 1-800-FLOWERS.COM-2012 | 262213000              | 113106000              | 28854000               | 0                      | 11887000               |  53933000              | ...                    | 0.03353559             | 0.06115330             | 0.02981130             | 0.02494074             | 0.06729643             | 0.10909563             | 0                      | 1                      | NA                     | NA                     |\n",
       "| FLWS                   | 2013                   | 1-800-FLOWERS.COM      | 1-800-FLOWERS.COM-2013 | 250073000              |  92649000              |   154000               | 0                      | 14957000               |  55756000              | ...                    | 0.03505929             | 0.06061751             | 0.03371190             | 0.01675194             | 0.04926961             | 0.07278861             | 0                      | 1                      | NA                     | NA                     |\n",
       "| FLWS                   | 2014                   | 1-800-FLOWERS.COM      | 1-800-FLOWERS.COM-2014 | 267569000              |  91818000              |  5203000               | 0                      | 13339000               |  58520000              | ...                    | 0.03127409             | 0.05751608             | 0.02954868             | 0.02032406             | 0.05745060             | 0.08259276             | 0                      | 1                      | NA                     | NA                     |\n",
       "| FLWS                   | 2015                   | 1-800-FLOWERS.COM      | 1-800-FLOWERS.COM-2015 | 497073000              | 155095000              | 27940000               | 0                      | 16191000               |  93163000              | ...                    | 0.03215944             | 0.05812809             | 0.02702973             | 0.01808907             | 0.04081292             | 0.09648714             | 0                      | 1                      | NA                     | NA                     |\n",
       "| FLWS                   | 2016                   | 1-800-FLOWERS.COM      | 1-800-FLOWERS.COM-2016 | 502941000              | 166659000              | 27826000               | 0                      | 19123000               | 103328000              | ...                    | 0.04954801             | 0.07715528             | 0.04385844             | 0.03143584             | 0.07331874             | 0.15200795             | 0                      | 1                      | NA                     | NA                     |\n",
       "\n"
      ],
      "text/plain": [
       "  Ticker Ano  Empresa           Concatenado            Total_Ativo\n",
       "1 FLWS   2011 1-800-FLOWERS.COM 1-800-FLOWERS.COM-2011 259075000  \n",
       "2 FLWS   2012 1-800-FLOWERS.COM 1-800-FLOWERS.COM-2012 262213000  \n",
       "3 FLWS   2013 1-800-FLOWERS.COM 1-800-FLOWERS.COM-2013 250073000  \n",
       "4 FLWS   2014 1-800-FLOWERS.COM 1-800-FLOWERS.COM-2014 267569000  \n",
       "5 FLWS   2015 1-800-FLOWERS.COM 1-800-FLOWERS.COM-2015 497073000  \n",
       "6 FLWS   2016 1-800-FLOWERS.COM 1-800-FLOWERS.COM-2016 502941000  \n",
       "  Total_Ativo_Circulante Caixa    Aplicacoes_financeiras Contas_a_receber\n",
       "1 101625000              21442000 0                      11916000        \n",
       "2 113106000              28854000 0                      11887000        \n",
       "3  92649000                154000 0                      14957000        \n",
       "4  91818000               5203000 0                      13339000        \n",
       "5 155095000              27940000 0                      16191000        \n",
       "6 166659000              27826000 0                      19123000        \n",
       "  Estoque   ... Margem_Atividade Margem_EBITDA Margem_Operacional\n",
       "1  51185000 ... 0.02129760       0.05189533    0.01526031        \n",
       "2  53933000 ... 0.03353559       0.06115330    0.02981130        \n",
       "3  55756000 ... 0.03505929       0.06061751    0.03371190        \n",
       "4  58520000 ... 0.03127409       0.05751608    0.02954868        \n",
       "5  93163000 ... 0.03215944       0.05812809    0.02702973        \n",
       "6 103328000 ... 0.04954801       0.07715528    0.04385844        \n",
       "  Margem_Liquida Retorno_Sobre_Ativo_Total Retorno_Sobre_PL Payout\n",
       "1 0.00865149     0.02208627                0.04015129       0     \n",
       "2 0.02494074     0.06729643                0.10909563       0     \n",
       "3 0.01675194     0.04926961                0.07278861       0     \n",
       "4 0.02032406     0.05745060                0.08259276       0     \n",
       "5 0.01808907     0.04081292                0.09648714       0     \n",
       "6 0.03143584     0.07331874                0.15200795       0     \n",
       "  Retention_Rate Ratings Agência\n",
       "1 1              NA      NA     \n",
       "2 1              NA      NA     \n",
       "3 1              NA      NA     \n",
       "4 1              NA      NA     \n",
       "5 1              NA      NA     \n",
       "6 1              NA      NA     "
      ]
     },
     "metadata": {},
     "output_type": "display_data"
    }
   ],
   "source": [
    "balancos <- read.xlsx(\"Atributos Empresas EUA e Ratings.xlsx\", sheet = \"DFPs\")\n",
    "balancos <- na.omit(balancos) # Eliminar linhas com NA 16372-12861=3511 reduzido\n",
    "balancos$Empresa <- toupper(balancos$Empresa)\n",
    "balancos$Concatenado <- toupper(balancos$Concatenado)\n",
    "balancos = cbind(balancos,\"Ratings\"=c(NA), \"Agência\"=c(NA))\n",
    "head(balancos)"
   ]
  },
  {
   "cell_type": "code",
   "execution_count": 14,
   "metadata": {},
   "outputs": [
    {
     "data": {
      "text/html": [
       "<table>\n",
       "<thead><tr><th scope=col>Ticker</th><th scope=col>Ano</th><th scope=col>Empresa</th><th scope=col>Concatenado</th><th scope=col>Total_Ativo</th><th scope=col>Total_Ativo_Circulante</th><th scope=col>Caixa</th><th scope=col>Aplicacoes_financeiras</th><th scope=col>Contas_a_receber</th><th scope=col>Estoque</th><th scope=col>...</th><th scope=col>Margem_Atividade</th><th scope=col>Margem_EBITDA</th><th scope=col>Margem_Operacional</th><th scope=col>Margem_Liquida</th><th scope=col>Retorno_Sobre_Ativo_Total</th><th scope=col>Retorno_Sobre_PL</th><th scope=col>Payout</th><th scope=col>Retention_Rate</th><th scope=col>Ratings</th><th scope=col>Agência</th></tr></thead>\n",
       "<tbody>\n",
       "\t<tr><td>FLWS                  </td><td>2011                  </td><td>1-800-FLOWERS.COM     </td><td>1-800-FLOWERS.COM-2011</td><td>259075000             </td><td>101625000             </td><td>21442000              </td><td>0                     </td><td>11916000              </td><td> 51185000             </td><td>...                   </td><td>0.02129760            </td><td>0.05189533            </td><td>0.01526031            </td><td>0.00865149            </td><td>0.02208627            </td><td>0.04015129            </td><td>0                     </td><td>1                     </td><td>NA                    </td><td>NA                    </td></tr>\n",
       "\t<tr><td>FLWS                  </td><td>2012                  </td><td>1-800-FLOWERS.COM     </td><td>1-800-FLOWERS.COM-2012</td><td>262213000             </td><td>113106000             </td><td>28854000              </td><td>0                     </td><td>11887000              </td><td> 53933000             </td><td>...                   </td><td>0.03353559            </td><td>0.06115330            </td><td>0.02981130            </td><td>0.02494074            </td><td>0.06729643            </td><td>0.10909563            </td><td>0                     </td><td>1                     </td><td>NA                    </td><td>NA                    </td></tr>\n",
       "\t<tr><td>FLWS                  </td><td>2013                  </td><td>1-800-FLOWERS.COM     </td><td>1-800-FLOWERS.COM-2013</td><td>250073000             </td><td> 92649000             </td><td>  154000              </td><td>0                     </td><td>14957000              </td><td> 55756000             </td><td>...                   </td><td>0.03505929            </td><td>0.06061751            </td><td>0.03371190            </td><td>0.01675194            </td><td>0.04926961            </td><td>0.07278861            </td><td>0                     </td><td>1                     </td><td>NA                    </td><td>NA                    </td></tr>\n",
       "\t<tr><td>FLWS                  </td><td>2014                  </td><td>1-800-FLOWERS.COM     </td><td>1-800-FLOWERS.COM-2014</td><td>267569000             </td><td> 91818000             </td><td> 5203000              </td><td>0                     </td><td>13339000              </td><td> 58520000             </td><td>...                   </td><td>0.03127409            </td><td>0.05751608            </td><td>0.02954868            </td><td>0.02032406            </td><td>0.05745060            </td><td>0.08259276            </td><td>0                     </td><td>1                     </td><td>NA                    </td><td>NA                    </td></tr>\n",
       "\t<tr><td>FLWS                  </td><td>2015                  </td><td>1-800-FLOWERS.COM     </td><td>1-800-FLOWERS.COM-2015</td><td>497073000             </td><td>155095000             </td><td>27940000              </td><td>0                     </td><td>16191000              </td><td> 93163000             </td><td>...                   </td><td>0.03215944            </td><td>0.05812809            </td><td>0.02702973            </td><td>0.01808907            </td><td>0.04081292            </td><td>0.09648714            </td><td>0                     </td><td>1                     </td><td>NA                    </td><td>NA                    </td></tr>\n",
       "\t<tr><td>FLWS                  </td><td>2016                  </td><td>1-800-FLOWERS.COM     </td><td>1-800-FLOWERS.COM-2016</td><td>502941000             </td><td>166659000             </td><td>27826000              </td><td>0                     </td><td>19123000              </td><td>103328000             </td><td>...                   </td><td>0.04954801            </td><td>0.07715528            </td><td>0.04385844            </td><td>0.03143584            </td><td>0.07331874            </td><td>0.15200795            </td><td>0                     </td><td>1                     </td><td>NA                    </td><td>NA                    </td></tr>\n",
       "</tbody>\n",
       "</table>\n"
      ],
      "text/latex": [
       "\\begin{tabular}{r|lllllllllllllllllllllllllllllllllllllllllllllllllllllllllllllllllllllllllllllllllllll}\n",
       " Ticker & Ano & Empresa & Concatenado & Total\\_Ativo & Total\\_Ativo\\_Circulante & Caixa & Aplicacoes\\_financeiras & Contas\\_a\\_receber & Estoque & ... & Margem\\_Atividade & Margem\\_EBITDA & Margem\\_Operacional & Margem\\_Liquida & Retorno\\_Sobre\\_Ativo\\_Total & Retorno\\_Sobre\\_PL & Payout & Retention\\_Rate & Ratings & Agência\\\\\n",
       "\\hline\n",
       "\t FLWS                   & 2011                   & 1-800-FLOWERS.COM      & 1-800-FLOWERS.COM-2011 & 259075000              & 101625000              & 21442000               & 0                      & 11916000               &  51185000              & ...                    & 0.02129760             & 0.05189533             & 0.01526031             & 0.00865149             & 0.02208627             & 0.04015129             & 0                      & 1                      & NA                     & NA                    \\\\\n",
       "\t FLWS                   & 2012                   & 1-800-FLOWERS.COM      & 1-800-FLOWERS.COM-2012 & 262213000              & 113106000              & 28854000               & 0                      & 11887000               &  53933000              & ...                    & 0.03353559             & 0.06115330             & 0.02981130             & 0.02494074             & 0.06729643             & 0.10909563             & 0                      & 1                      & NA                     & NA                    \\\\\n",
       "\t FLWS                   & 2013                   & 1-800-FLOWERS.COM      & 1-800-FLOWERS.COM-2013 & 250073000              &  92649000              &   154000               & 0                      & 14957000               &  55756000              & ...                    & 0.03505929             & 0.06061751             & 0.03371190             & 0.01675194             & 0.04926961             & 0.07278861             & 0                      & 1                      & NA                     & NA                    \\\\\n",
       "\t FLWS                   & 2014                   & 1-800-FLOWERS.COM      & 1-800-FLOWERS.COM-2014 & 267569000              &  91818000              &  5203000               & 0                      & 13339000               &  58520000              & ...                    & 0.03127409             & 0.05751608             & 0.02954868             & 0.02032406             & 0.05745060             & 0.08259276             & 0                      & 1                      & NA                     & NA                    \\\\\n",
       "\t FLWS                   & 2015                   & 1-800-FLOWERS.COM      & 1-800-FLOWERS.COM-2015 & 497073000              & 155095000              & 27940000               & 0                      & 16191000               &  93163000              & ...                    & 0.03215944             & 0.05812809             & 0.02702973             & 0.01808907             & 0.04081292             & 0.09648714             & 0                      & 1                      & NA                     & NA                    \\\\\n",
       "\t FLWS                   & 2016                   & 1-800-FLOWERS.COM      & 1-800-FLOWERS.COM-2016 & 502941000              & 166659000              & 27826000               & 0                      & 19123000               & 103328000              & ...                    & 0.04954801             & 0.07715528             & 0.04385844             & 0.03143584             & 0.07331874             & 0.15200795             & 0                      & 1                      & NA                     & NA                    \\\\\n",
       "\\end{tabular}\n"
      ],
      "text/markdown": [
       "\n",
       "| Ticker | Ano | Empresa | Concatenado | Total_Ativo | Total_Ativo_Circulante | Caixa | Aplicacoes_financeiras | Contas_a_receber | Estoque | ... | Margem_Atividade | Margem_EBITDA | Margem_Operacional | Margem_Liquida | Retorno_Sobre_Ativo_Total | Retorno_Sobre_PL | Payout | Retention_Rate | Ratings | Agência |\n",
       "|---|---|---|---|---|---|---|---|---|---|---|---|---|---|---|---|---|---|---|---|---|\n",
       "| FLWS                   | 2011                   | 1-800-FLOWERS.COM      | 1-800-FLOWERS.COM-2011 | 259075000              | 101625000              | 21442000               | 0                      | 11916000               |  51185000              | ...                    | 0.02129760             | 0.05189533             | 0.01526031             | 0.00865149             | 0.02208627             | 0.04015129             | 0                      | 1                      | NA                     | NA                     |\n",
       "| FLWS                   | 2012                   | 1-800-FLOWERS.COM      | 1-800-FLOWERS.COM-2012 | 262213000              | 113106000              | 28854000               | 0                      | 11887000               |  53933000              | ...                    | 0.03353559             | 0.06115330             | 0.02981130             | 0.02494074             | 0.06729643             | 0.10909563             | 0                      | 1                      | NA                     | NA                     |\n",
       "| FLWS                   | 2013                   | 1-800-FLOWERS.COM      | 1-800-FLOWERS.COM-2013 | 250073000              |  92649000              |   154000               | 0                      | 14957000               |  55756000              | ...                    | 0.03505929             | 0.06061751             | 0.03371190             | 0.01675194             | 0.04926961             | 0.07278861             | 0                      | 1                      | NA                     | NA                     |\n",
       "| FLWS                   | 2014                   | 1-800-FLOWERS.COM      | 1-800-FLOWERS.COM-2014 | 267569000              |  91818000              |  5203000               | 0                      | 13339000               |  58520000              | ...                    | 0.03127409             | 0.05751608             | 0.02954868             | 0.02032406             | 0.05745060             | 0.08259276             | 0                      | 1                      | NA                     | NA                     |\n",
       "| FLWS                   | 2015                   | 1-800-FLOWERS.COM      | 1-800-FLOWERS.COM-2015 | 497073000              | 155095000              | 27940000               | 0                      | 16191000               |  93163000              | ...                    | 0.03215944             | 0.05812809             | 0.02702973             | 0.01808907             | 0.04081292             | 0.09648714             | 0                      | 1                      | NA                     | NA                     |\n",
       "| FLWS                   | 2016                   | 1-800-FLOWERS.COM      | 1-800-FLOWERS.COM-2016 | 502941000              | 166659000              | 27826000               | 0                      | 19123000               | 103328000              | ...                    | 0.04954801             | 0.07715528             | 0.04385844             | 0.03143584             | 0.07331874             | 0.15200795             | 0                      | 1                      | NA                     | NA                     |\n",
       "\n"
      ],
      "text/plain": [
       "  Ticker Ano  Empresa           Concatenado            Total_Ativo\n",
       "1 FLWS   2011 1-800-FLOWERS.COM 1-800-FLOWERS.COM-2011 259075000  \n",
       "2 FLWS   2012 1-800-FLOWERS.COM 1-800-FLOWERS.COM-2012 262213000  \n",
       "3 FLWS   2013 1-800-FLOWERS.COM 1-800-FLOWERS.COM-2013 250073000  \n",
       "4 FLWS   2014 1-800-FLOWERS.COM 1-800-FLOWERS.COM-2014 267569000  \n",
       "5 FLWS   2015 1-800-FLOWERS.COM 1-800-FLOWERS.COM-2015 497073000  \n",
       "6 FLWS   2016 1-800-FLOWERS.COM 1-800-FLOWERS.COM-2016 502941000  \n",
       "  Total_Ativo_Circulante Caixa    Aplicacoes_financeiras Contas_a_receber\n",
       "1 101625000              21442000 0                      11916000        \n",
       "2 113106000              28854000 0                      11887000        \n",
       "3  92649000                154000 0                      14957000        \n",
       "4  91818000               5203000 0                      13339000        \n",
       "5 155095000              27940000 0                      16191000        \n",
       "6 166659000              27826000 0                      19123000        \n",
       "  Estoque   ... Margem_Atividade Margem_EBITDA Margem_Operacional\n",
       "1  51185000 ... 0.02129760       0.05189533    0.01526031        \n",
       "2  53933000 ... 0.03353559       0.06115330    0.02981130        \n",
       "3  55756000 ... 0.03505929       0.06061751    0.03371190        \n",
       "4  58520000 ... 0.03127409       0.05751608    0.02954868        \n",
       "5  93163000 ... 0.03215944       0.05812809    0.02702973        \n",
       "6 103328000 ... 0.04954801       0.07715528    0.04385844        \n",
       "  Margem_Liquida Retorno_Sobre_Ativo_Total Retorno_Sobre_PL Payout\n",
       "1 0.00865149     0.02208627                0.04015129       0     \n",
       "2 0.02494074     0.06729643                0.10909563       0     \n",
       "3 0.01675194     0.04926961                0.07278861       0     \n",
       "4 0.02032406     0.05745060                0.08259276       0     \n",
       "5 0.01808907     0.04081292                0.09648714       0     \n",
       "6 0.03143584     0.07331874                0.15200795       0     \n",
       "  Retention_Rate Ratings Agência\n",
       "1 1              NA      NA     \n",
       "2 1              NA      NA     \n",
       "3 1              NA      NA     \n",
       "4 1              NA      NA     \n",
       "5 1              NA      NA     \n",
       "6 1              NA      NA     "
      ]
     },
     "metadata": {},
     "output_type": "display_data"
    }
   ],
   "source": [
    "#match das empresas que tem rating\n",
    "for (i in 1:length(balancos[,1])){\n",
    "  #posicao\n",
    "  balancos$Concatenado[i]\n",
    "  pos <-mamatch(balancos$Concatenado[i],ratings$Emp.Ano,maxDist=4, maxmatch=25, dupls=TRUE)\n",
    "  pos[is.na(pos)] <- 0\n",
    "  pos\n",
    "  for (j in 1:length(pos)){\n",
    "    if (pos[j]>0){\n",
    "      if (balancos$Ano[i] == ratings$Ano[pos[j]]){\n",
    "        balancos$Ratings[i]=ratings$Rating[pos[j]]\n",
    "        balancos$Agência[i]=ratings$Agência[pos[j]]\n",
    "        }\n",
    "    }\n",
    "    else{}\n",
    "  }\n",
    "}\n",
    "balancos <- na.omit(balancos)\n",
    "write.xlsx(balancos, \"match.xlsx\")\n",
    "head(balancos)"
   ]
  },
  {
   "cell_type": "markdown",
   "metadata": {},
   "source": [
    "Repetir dados para os anos em branco "
   ]
  },
  {
   "cell_type": "code",
   "execution_count": 16,
   "metadata": {},
   "outputs": [
    {
     "data": {
      "text/html": [
       "<table>\n",
       "<thead><tr><th></th><th scope=col>Ticker</th><th scope=col>Ano</th><th scope=col>Empresa</th><th scope=col>Concatenado</th><th scope=col>Total_Ativo</th><th scope=col>Total_Ativo_Circulante</th><th scope=col>Caixa</th><th scope=col>Aplicacoes_financeiras</th><th scope=col>Contas_a_receber</th><th scope=col>Estoque</th><th scope=col>...</th><th scope=col>Margem_EBITDA</th><th scope=col>Margem_Operacional</th><th scope=col>Margem_Liquida</th><th scope=col>Retorno_Sobre_Ativo_Total</th><th scope=col>Retorno_Sobre_PL</th><th scope=col>Payout</th><th scope=col>Retention_Rate</th><th scope=col>Ratings</th><th scope=col>Agência</th><th scope=col>Rating Label</th></tr></thead>\n",
       "<tbody>\n",
       "\t<tr><th scope=row>10</th><td>TWOU                      </td><td>2013                      </td><td>2U INC                    </td><td>2U INC-2013               </td><td> 28652000                 </td><td> 11191000                 </td><td>  7012000                 </td><td>0                         </td><td> 1835000                  </td><td>0                         </td><td>...                       </td><td>-0.3369062                </td><td>-0.3362686                </td><td>-0.34044294               </td><td>-0.98771464               </td><td>-4.69865516               </td><td>0                         </td><td>1                         </td><td>BB-                       </td><td>EGAN-JONES RATINGS COMPANY</td><td>NA                        </td></tr>\n",
       "\t<tr><th scope=row>11</th><td>TWOU                      </td><td>2014                      </td><td>2U INC                    </td><td>2U INC-2014               </td><td>113039000                 </td><td> 89988000                 </td><td> 86929000                 </td><td>0                         </td><td>  350000                  </td><td>0                         </td><td>...                       </td><td>-0.2528869                </td><td>-0.2630557                </td><td>-0.26224839               </td><td>-0.25575244               </td><td>-0.32848167               </td><td>0                         </td><td>1                         </td><td>BB-                       </td><td>EGAN-JONES RATINGS COMPANY</td><td>NA                        </td></tr>\n",
       "\t<tr><th scope=row>12</th><td>TWOU                      </td><td>2015                      </td><td>2U INC                    </td><td>2U INC-2015               </td><td>231041000                 </td><td>192907000                 </td><td>183729000                 </td><td>0                         </td><td>  975000                  </td><td>0                         </td><td>...                       </td><td>-0.1754264                </td><td>-0.1779898                </td><td>-0.17798980               </td><td>-0.11570674               </td><td>-0.13653985               </td><td>0                         </td><td>1                         </td><td>BBB-                      </td><td>EGAN-JONES RATINGS COMPANY</td><td>NA                        </td></tr>\n",
       "\t<tr><th scope=row>13</th><td>TWOU                      </td><td>2016                      </td><td>2U INC                    </td><td>2U INC-2016               </td><td>244320000                 </td><td>184698000                 </td><td>168730000                 </td><td>0                         </td><td> 7860000                  </td><td>0                         </td><td>...                       </td><td>-0.1021645                </td><td>-0.1004741                </td><td>-0.10047410               </td><td>-0.08465946               </td><td>-0.10594303               </td><td>0                         </td><td>1                         </td><td>BBB-                      </td><td>EGAN-JONES RATINGS COMPANY</td><td>NA                        </td></tr>\n",
       "\t<tr><th scope=row>14</th><td>TWOU                      </td><td>2017                      </td><td>2U INC                    </td><td>2U INC-2017               </td><td>482062000                 </td><td>248053000                 </td><td>223370000                 </td><td>0                         </td><td>14174000                  </td><td>0                         </td><td>...                       </td><td>-0.1081213                </td><td>-0.1071309                </td><td>-0.10260783               </td><td>-0.06103572               </td><td>-0.07586532               </td><td>0                         </td><td>1                         </td><td>BBB-                      </td><td>EGAN-JONES RATINGS COMPANY</td><td>NA                        </td></tr>\n",
       "\t<tr><th scope=row>15</th><td>TWOU                      </td><td>2018                      </td><td>2U INC                    </td><td>2U INC-2018               </td><td>807354000                 </td><td>521680000                 </td><td>474772000                 </td><td>0                         </td><td>32636000                  </td><td>0                         </td><td>...                       </td><td>-0.1172065                </td><td>-0.1049059                </td><td>-0.09308617               </td><td>-0.04747608               </td><td>-0.05436810               </td><td>0                         </td><td>1                         </td><td>BBB-                      </td><td>EGAN-JONES RATINGS COMPANY</td><td>NA                        </td></tr>\n",
       "</tbody>\n",
       "</table>\n"
      ],
      "text/latex": [
       "\\begin{tabular}{r|llllllllllllllllllllllllllllllllllllllllllllllllllllllllllllllllllllllllllllllllllllll}\n",
       "  & Ticker & Ano & Empresa & Concatenado & Total\\_Ativo & Total\\_Ativo\\_Circulante & Caixa & Aplicacoes\\_financeiras & Contas\\_a\\_receber & Estoque & ... & Margem\\_EBITDA & Margem\\_Operacional & Margem\\_Liquida & Retorno\\_Sobre\\_Ativo\\_Total & Retorno\\_Sobre\\_PL & Payout & Retention\\_Rate & Ratings & Agência & Rating Label\\\\\n",
       "\\hline\n",
       "\t10 & TWOU                       & 2013                       & 2U INC                     & 2U INC-2013                &  28652000                  &  11191000                  &   7012000                  & 0                          &  1835000                   & 0                          & ...                        & -0.3369062                 & -0.3362686                 & -0.34044294                & -0.98771464                & -4.69865516                & 0                          & 1                          & BB-                        & EGAN-JONES RATINGS COMPANY & NA                        \\\\\n",
       "\t11 & TWOU                       & 2014                       & 2U INC                     & 2U INC-2014                & 113039000                  &  89988000                  &  86929000                  & 0                          &   350000                   & 0                          & ...                        & -0.2528869                 & -0.2630557                 & -0.26224839                & -0.25575244                & -0.32848167                & 0                          & 1                          & BB-                        & EGAN-JONES RATINGS COMPANY & NA                        \\\\\n",
       "\t12 & TWOU                       & 2015                       & 2U INC                     & 2U INC-2015                & 231041000                  & 192907000                  & 183729000                  & 0                          &   975000                   & 0                          & ...                        & -0.1754264                 & -0.1779898                 & -0.17798980                & -0.11570674                & -0.13653985                & 0                          & 1                          & BBB-                       & EGAN-JONES RATINGS COMPANY & NA                        \\\\\n",
       "\t13 & TWOU                       & 2016                       & 2U INC                     & 2U INC-2016                & 244320000                  & 184698000                  & 168730000                  & 0                          &  7860000                   & 0                          & ...                        & -0.1021645                 & -0.1004741                 & -0.10047410                & -0.08465946                & -0.10594303                & 0                          & 1                          & BBB-                       & EGAN-JONES RATINGS COMPANY & NA                        \\\\\n",
       "\t14 & TWOU                       & 2017                       & 2U INC                     & 2U INC-2017                & 482062000                  & 248053000                  & 223370000                  & 0                          & 14174000                   & 0                          & ...                        & -0.1081213                 & -0.1071309                 & -0.10260783                & -0.06103572                & -0.07586532                & 0                          & 1                          & BBB-                       & EGAN-JONES RATINGS COMPANY & NA                        \\\\\n",
       "\t15 & TWOU                       & 2018                       & 2U INC                     & 2U INC-2018                & 807354000                  & 521680000                  & 474772000                  & 0                          & 32636000                   & 0                          & ...                        & -0.1172065                 & -0.1049059                 & -0.09308617                & -0.04747608                & -0.05436810                & 0                          & 1                          & BBB-                       & EGAN-JONES RATINGS COMPANY & NA                        \\\\\n",
       "\\end{tabular}\n"
      ],
      "text/markdown": [
       "\n",
       "| <!--/--> | Ticker | Ano | Empresa | Concatenado | Total_Ativo | Total_Ativo_Circulante | Caixa | Aplicacoes_financeiras | Contas_a_receber | Estoque | ... | Margem_EBITDA | Margem_Operacional | Margem_Liquida | Retorno_Sobre_Ativo_Total | Retorno_Sobre_PL | Payout | Retention_Rate | Ratings | Agência | Rating Label |\n",
       "|---|---|---|---|---|---|---|---|---|---|---|---|---|---|---|---|---|---|---|---|---|---|\n",
       "| 10 | TWOU                       | 2013                       | 2U INC                     | 2U INC-2013                |  28652000                  |  11191000                  |   7012000                  | 0                          |  1835000                   | 0                          | ...                        | -0.3369062                 | -0.3362686                 | -0.34044294                | -0.98771464                | -4.69865516                | 0                          | 1                          | BB-                        | EGAN-JONES RATINGS COMPANY | NA                         |\n",
       "| 11 | TWOU                       | 2014                       | 2U INC                     | 2U INC-2014                | 113039000                  |  89988000                  |  86929000                  | 0                          |   350000                   | 0                          | ...                        | -0.2528869                 | -0.2630557                 | -0.26224839                | -0.25575244                | -0.32848167                | 0                          | 1                          | BB-                        | EGAN-JONES RATINGS COMPANY | NA                         |\n",
       "| 12 | TWOU                       | 2015                       | 2U INC                     | 2U INC-2015                | 231041000                  | 192907000                  | 183729000                  | 0                          |   975000                   | 0                          | ...                        | -0.1754264                 | -0.1779898                 | -0.17798980                | -0.11570674                | -0.13653985                | 0                          | 1                          | BBB-                       | EGAN-JONES RATINGS COMPANY | NA                         |\n",
       "| 13 | TWOU                       | 2016                       | 2U INC                     | 2U INC-2016                | 244320000                  | 184698000                  | 168730000                  | 0                          |  7860000                   | 0                          | ...                        | -0.1021645                 | -0.1004741                 | -0.10047410                | -0.08465946                | -0.10594303                | 0                          | 1                          | BBB-                       | EGAN-JONES RATINGS COMPANY | NA                         |\n",
       "| 14 | TWOU                       | 2017                       | 2U INC                     | 2U INC-2017                | 482062000                  | 248053000                  | 223370000                  | 0                          | 14174000                   | 0                          | ...                        | -0.1081213                 | -0.1071309                 | -0.10260783                | -0.06103572                | -0.07586532                | 0                          | 1                          | BBB-                       | EGAN-JONES RATINGS COMPANY | NA                         |\n",
       "| 15 | TWOU                       | 2018                       | 2U INC                     | 2U INC-2018                | 807354000                  | 521680000                  | 474772000                  | 0                          | 32636000                   | 0                          | ...                        | -0.1172065                 | -0.1049059                 | -0.09308617                | -0.04747608                | -0.05436810                | 0                          | 1                          | BBB-                       | EGAN-JONES RATINGS COMPANY | NA                         |\n",
       "\n"
      ],
      "text/plain": [
       "   Ticker Ano  Empresa Concatenado Total_Ativo Total_Ativo_Circulante Caixa    \n",
       "10 TWOU   2013 2U INC  2U INC-2013  28652000    11191000                7012000\n",
       "11 TWOU   2014 2U INC  2U INC-2014 113039000    89988000               86929000\n",
       "12 TWOU   2015 2U INC  2U INC-2015 231041000   192907000              183729000\n",
       "13 TWOU   2016 2U INC  2U INC-2016 244320000   184698000              168730000\n",
       "14 TWOU   2017 2U INC  2U INC-2017 482062000   248053000              223370000\n",
       "15 TWOU   2018 2U INC  2U INC-2018 807354000   521680000              474772000\n",
       "   Aplicacoes_financeiras Contas_a_receber Estoque ... Margem_EBITDA\n",
       "10 0                       1835000         0       ... -0.3369062   \n",
       "11 0                        350000         0       ... -0.2528869   \n",
       "12 0                        975000         0       ... -0.1754264   \n",
       "13 0                       7860000         0       ... -0.1021645   \n",
       "14 0                      14174000         0       ... -0.1081213   \n",
       "15 0                      32636000         0       ... -0.1172065   \n",
       "   Margem_Operacional Margem_Liquida Retorno_Sobre_Ativo_Total Retorno_Sobre_PL\n",
       "10 -0.3362686         -0.34044294    -0.98771464               -4.69865516     \n",
       "11 -0.2630557         -0.26224839    -0.25575244               -0.32848167     \n",
       "12 -0.1779898         -0.17798980    -0.11570674               -0.13653985     \n",
       "13 -0.1004741         -0.10047410    -0.08465946               -0.10594303     \n",
       "14 -0.1071309         -0.10260783    -0.06103572               -0.07586532     \n",
       "15 -0.1049059         -0.09308617    -0.04747608               -0.05436810     \n",
       "   Payout Retention_Rate Ratings Agência                    Rating Label\n",
       "10 0      1              BB-     EGAN-JONES RATINGS COMPANY NA          \n",
       "11 0      1              BB-     EGAN-JONES RATINGS COMPANY NA          \n",
       "12 0      1              BBB-    EGAN-JONES RATINGS COMPANY NA          \n",
       "13 0      1              BBB-    EGAN-JONES RATINGS COMPANY NA          \n",
       "14 0      1              BBB-    EGAN-JONES RATINGS COMPANY NA          \n",
       "15 0      1              BBB-    EGAN-JONES RATINGS COMPANY NA          "
      ]
     },
     "metadata": {},
     "output_type": "display_data"
    }
   ],
   "source": [
    "companies <- unique(balancos$Empresa)\n",
    "for (i in 1:length(companies)){\n",
    "  companies[i]\n",
    "  pos_inf <-amatch(companies[i],balancos$Empresa,maxDist=1)\n",
    "  pos_inf\n",
    "  if (i<length(companies)){\n",
    "    pos_sup<-amatch(companies[(i+1)],balancos$Empresa,maxDist=1)\n",
    "    pos_sup\n",
    "  }\n",
    "  if(i==length(companies)){\n",
    "    pos_sup<-length(balancos[,1])\n",
    "    pos_sup\n",
    "  }\n",
    "  pos_sup\n",
    "  #Rating\n",
    "  rating_atual_inf<-na.locf(balancos$Ratings[pos_inf:(pos_sup-1)], na.rm = FALSE, fromLast = TRUE)\n",
    "  rating_atual_sup<-na.locf(balancos$Ratings[pos_inf:(pos_sup-1)], na.rm = FALSE, fromLast = FALSE)\n",
    "  agencia_atual_inf<-na.locf(balancos$Agência[pos_inf:(pos_sup-1)], na.rm = FALSE, fromLast = TRUE)\n",
    "  agencia_atual_sup<-na.locf(balancos$Agência[pos_inf:(pos_sup-1)], na.rm = FALSE, fromLast = FALSE)\n",
    "  rating_atual_inf\n",
    "  rating_atual_sup\n",
    "  rating_vetor=rating_atual_inf==rating_atual_sup\n",
    "  rating_pos_vet=which(rating_vetor == TRUE)[1]\n",
    "  rating_pos_vet\n",
    "  if (is.na(rating_pos_vet)){\n",
    "    rating_pos_vet=which(rating_vetor == FALSE)[1]\n",
    "    rating_pos_vet\n",
    "  }\n",
    "  if (is.na(rating_pos_vet)[1] == FALSE){\n",
    "    for (j in 1:(pos_sup-pos_inf)){\n",
    "      if (j<rating_pos_vet){\n",
    "        balancos$Ratings[(pos_inf+j-1)]=rating_atual_inf[j]\n",
    "        balancos$Agência[(pos_inf+j-1)]=agencia_atual_inf[j]\n",
    "      }\n",
    "      if (j>=rating_pos_vet){\n",
    "        balancos$Ratings[(pos_inf+j-1)]=rating_atual_sup[j]\n",
    "        balancos$Agência[(pos_inf+j-1)]=agencia_atual_sup[j]\n",
    "      }\n",
    "    }\n",
    "  }\n",
    "  else{}\n",
    "}\n",
    "\n",
    "write.xlsx(balancos, \"final.xlsx\")\n",
    "balancos <- na.omit(balancos)\n",
    "balancos = cbind(balancos,\"Rating Label\"=c(NA))\n",
    "head(balancos)"
   ]
  },
  {
   "cell_type": "markdown",
   "metadata": {},
   "source": [
    "Definição dos labels"
   ]
  },
  {
   "cell_type": "code",
   "execution_count": 17,
   "metadata": {},
   "outputs": [
    {
     "data": {
      "text/html": [
       "<table>\n",
       "<thead><tr><th scope=col>Ticker</th><th scope=col>Ano</th><th scope=col>Empresa</th><th scope=col>Concatenado</th><th scope=col>Total_Ativo</th><th scope=col>Total_Ativo_Circulante</th><th scope=col>Caixa</th><th scope=col>Aplicacoes_financeiras</th><th scope=col>Contas_a_receber</th><th scope=col>Estoque</th><th scope=col>...</th><th scope=col>Margem_EBITDA</th><th scope=col>Margem_Operacional</th><th scope=col>Margem_Liquida</th><th scope=col>Retorno_Sobre_Ativo_Total</th><th scope=col>Retorno_Sobre_PL</th><th scope=col>Payout</th><th scope=col>Retention_Rate</th><th scope=col>Ratings</th><th scope=col>Agência</th><th scope=col>Rating.Label</th></tr></thead>\n",
       "<tbody>\n",
       "\t<tr><td>TWOU                      </td><td>2013                      </td><td>2U INC                    </td><td>2U INC-2013               </td><td> 28652000                 </td><td> 11191000                 </td><td>  7012000                 </td><td>0                         </td><td> 1835000                  </td><td>0                         </td><td>...                       </td><td>-0.3369062                </td><td>-0.3362686                </td><td>-0.34044294               </td><td>-0.98771464               </td><td>-4.69865516               </td><td>0                         </td><td>1                         </td><td>BB-                       </td><td>EGAN-JONES RATINGS COMPANY</td><td>REGULAR                   </td></tr>\n",
       "\t<tr><td>TWOU                      </td><td>2014                      </td><td>2U INC                    </td><td>2U INC-2014               </td><td>113039000                 </td><td> 89988000                 </td><td> 86929000                 </td><td>0                         </td><td>  350000                  </td><td>0                         </td><td>...                       </td><td>-0.2528869                </td><td>-0.2630557                </td><td>-0.26224839               </td><td>-0.25575244               </td><td>-0.32848167               </td><td>0                         </td><td>1                         </td><td>BB-                       </td><td>EGAN-JONES RATINGS COMPANY</td><td>REGULAR                   </td></tr>\n",
       "\t<tr><td>TWOU                      </td><td>2015                      </td><td>2U INC                    </td><td>2U INC-2015               </td><td>231041000                 </td><td>192907000                 </td><td>183729000                 </td><td>0                         </td><td>  975000                  </td><td>0                         </td><td>...                       </td><td>-0.1754264                </td><td>-0.1779898                </td><td>-0.17798980               </td><td>-0.11570674               </td><td>-0.13653985               </td><td>0                         </td><td>1                         </td><td>BBB-                      </td><td>EGAN-JONES RATINGS COMPANY</td><td>STRONG                    </td></tr>\n",
       "\t<tr><td>TWOU                      </td><td>2016                      </td><td>2U INC                    </td><td>2U INC-2016               </td><td>244320000                 </td><td>184698000                 </td><td>168730000                 </td><td>0                         </td><td> 7860000                  </td><td>0                         </td><td>...                       </td><td>-0.1021645                </td><td>-0.1004741                </td><td>-0.10047410               </td><td>-0.08465946               </td><td>-0.10594303               </td><td>0                         </td><td>1                         </td><td>BBB-                      </td><td>EGAN-JONES RATINGS COMPANY</td><td>STRONG                    </td></tr>\n",
       "\t<tr><td>TWOU                      </td><td>2017                      </td><td>2U INC                    </td><td>2U INC-2017               </td><td>482062000                 </td><td>248053000                 </td><td>223370000                 </td><td>0                         </td><td>14174000                  </td><td>0                         </td><td>...                       </td><td>-0.1081213                </td><td>-0.1071309                </td><td>-0.10260783               </td><td>-0.06103572               </td><td>-0.07586532               </td><td>0                         </td><td>1                         </td><td>BBB-                      </td><td>EGAN-JONES RATINGS COMPANY</td><td>STRONG                    </td></tr>\n",
       "\t<tr><td>TWOU                      </td><td>2018                      </td><td>2U INC                    </td><td>2U INC-2018               </td><td>807354000                 </td><td>521680000                 </td><td>474772000                 </td><td>0                         </td><td>32636000                  </td><td>0                         </td><td>...                       </td><td>-0.1172065                </td><td>-0.1049059                </td><td>-0.09308617               </td><td>-0.04747608               </td><td>-0.05436810               </td><td>0                         </td><td>1                         </td><td>BBB-                      </td><td>EGAN-JONES RATINGS COMPANY</td><td>STRONG                    </td></tr>\n",
       "</tbody>\n",
       "</table>\n"
      ],
      "text/latex": [
       "\\begin{tabular}{r|llllllllllllllllllllllllllllllllllllllllllllllllllllllllllllllllllllllllllllllllllllll}\n",
       " Ticker & Ano & Empresa & Concatenado & Total\\_Ativo & Total\\_Ativo\\_Circulante & Caixa & Aplicacoes\\_financeiras & Contas\\_a\\_receber & Estoque & ... & Margem\\_EBITDA & Margem\\_Operacional & Margem\\_Liquida & Retorno\\_Sobre\\_Ativo\\_Total & Retorno\\_Sobre\\_PL & Payout & Retention\\_Rate & Ratings & Agência & Rating.Label\\\\\n",
       "\\hline\n",
       "\t TWOU                       & 2013                       & 2U INC                     & 2U INC-2013                &  28652000                  &  11191000                  &   7012000                  & 0                          &  1835000                   & 0                          & ...                        & -0.3369062                 & -0.3362686                 & -0.34044294                & -0.98771464                & -4.69865516                & 0                          & 1                          & BB-                        & EGAN-JONES RATINGS COMPANY & REGULAR                   \\\\\n",
       "\t TWOU                       & 2014                       & 2U INC                     & 2U INC-2014                & 113039000                  &  89988000                  &  86929000                  & 0                          &   350000                   & 0                          & ...                        & -0.2528869                 & -0.2630557                 & -0.26224839                & -0.25575244                & -0.32848167                & 0                          & 1                          & BB-                        & EGAN-JONES RATINGS COMPANY & REGULAR                   \\\\\n",
       "\t TWOU                       & 2015                       & 2U INC                     & 2U INC-2015                & 231041000                  & 192907000                  & 183729000                  & 0                          &   975000                   & 0                          & ...                        & -0.1754264                 & -0.1779898                 & -0.17798980                & -0.11570674                & -0.13653985                & 0                          & 1                          & BBB-                       & EGAN-JONES RATINGS COMPANY & STRONG                    \\\\\n",
       "\t TWOU                       & 2016                       & 2U INC                     & 2U INC-2016                & 244320000                  & 184698000                  & 168730000                  & 0                          &  7860000                   & 0                          & ...                        & -0.1021645                 & -0.1004741                 & -0.10047410                & -0.08465946                & -0.10594303                & 0                          & 1                          & BBB-                       & EGAN-JONES RATINGS COMPANY & STRONG                    \\\\\n",
       "\t TWOU                       & 2017                       & 2U INC                     & 2U INC-2017                & 482062000                  & 248053000                  & 223370000                  & 0                          & 14174000                   & 0                          & ...                        & -0.1081213                 & -0.1071309                 & -0.10260783                & -0.06103572                & -0.07586532                & 0                          & 1                          & BBB-                       & EGAN-JONES RATINGS COMPANY & STRONG                    \\\\\n",
       "\t TWOU                       & 2018                       & 2U INC                     & 2U INC-2018                & 807354000                  & 521680000                  & 474772000                  & 0                          & 32636000                   & 0                          & ...                        & -0.1172065                 & -0.1049059                 & -0.09308617                & -0.04747608                & -0.05436810                & 0                          & 1                          & BBB-                       & EGAN-JONES RATINGS COMPANY & STRONG                    \\\\\n",
       "\\end{tabular}\n"
      ],
      "text/markdown": [
       "\n",
       "| Ticker | Ano | Empresa | Concatenado | Total_Ativo | Total_Ativo_Circulante | Caixa | Aplicacoes_financeiras | Contas_a_receber | Estoque | ... | Margem_EBITDA | Margem_Operacional | Margem_Liquida | Retorno_Sobre_Ativo_Total | Retorno_Sobre_PL | Payout | Retention_Rate | Ratings | Agência | Rating.Label |\n",
       "|---|---|---|---|---|---|---|---|---|---|---|---|---|---|---|---|---|---|---|---|---|\n",
       "| TWOU                       | 2013                       | 2U INC                     | 2U INC-2013                |  28652000                  |  11191000                  |   7012000                  | 0                          |  1835000                   | 0                          | ...                        | -0.3369062                 | -0.3362686                 | -0.34044294                | -0.98771464                | -4.69865516                | 0                          | 1                          | BB-                        | EGAN-JONES RATINGS COMPANY | REGULAR                    |\n",
       "| TWOU                       | 2014                       | 2U INC                     | 2U INC-2014                | 113039000                  |  89988000                  |  86929000                  | 0                          |   350000                   | 0                          | ...                        | -0.2528869                 | -0.2630557                 | -0.26224839                | -0.25575244                | -0.32848167                | 0                          | 1                          | BB-                        | EGAN-JONES RATINGS COMPANY | REGULAR                    |\n",
       "| TWOU                       | 2015                       | 2U INC                     | 2U INC-2015                | 231041000                  | 192907000                  | 183729000                  | 0                          |   975000                   | 0                          | ...                        | -0.1754264                 | -0.1779898                 | -0.17798980                | -0.11570674                | -0.13653985                | 0                          | 1                          | BBB-                       | EGAN-JONES RATINGS COMPANY | STRONG                     |\n",
       "| TWOU                       | 2016                       | 2U INC                     | 2U INC-2016                | 244320000                  | 184698000                  | 168730000                  | 0                          |  7860000                   | 0                          | ...                        | -0.1021645                 | -0.1004741                 | -0.10047410                | -0.08465946                | -0.10594303                | 0                          | 1                          | BBB-                       | EGAN-JONES RATINGS COMPANY | STRONG                     |\n",
       "| TWOU                       | 2017                       | 2U INC                     | 2U INC-2017                | 482062000                  | 248053000                  | 223370000                  | 0                          | 14174000                   | 0                          | ...                        | -0.1081213                 | -0.1071309                 | -0.10260783                | -0.06103572                | -0.07586532                | 0                          | 1                          | BBB-                       | EGAN-JONES RATINGS COMPANY | STRONG                     |\n",
       "| TWOU                       | 2018                       | 2U INC                     | 2U INC-2018                | 807354000                  | 521680000                  | 474772000                  | 0                          | 32636000                   | 0                          | ...                        | -0.1172065                 | -0.1049059                 | -0.09308617                | -0.04747608                | -0.05436810                | 0                          | 1                          | BBB-                       | EGAN-JONES RATINGS COMPANY | STRONG                     |\n",
       "\n"
      ],
      "text/plain": [
       "  Ticker Ano  Empresa Concatenado Total_Ativo Total_Ativo_Circulante Caixa    \n",
       "1 TWOU   2013 2U INC  2U INC-2013  28652000    11191000                7012000\n",
       "2 TWOU   2014 2U INC  2U INC-2014 113039000    89988000               86929000\n",
       "3 TWOU   2015 2U INC  2U INC-2015 231041000   192907000              183729000\n",
       "4 TWOU   2016 2U INC  2U INC-2016 244320000   184698000              168730000\n",
       "5 TWOU   2017 2U INC  2U INC-2017 482062000   248053000              223370000\n",
       "6 TWOU   2018 2U INC  2U INC-2018 807354000   521680000              474772000\n",
       "  Aplicacoes_financeiras Contas_a_receber Estoque ... Margem_EBITDA\n",
       "1 0                       1835000         0       ... -0.3369062   \n",
       "2 0                        350000         0       ... -0.2528869   \n",
       "3 0                        975000         0       ... -0.1754264   \n",
       "4 0                       7860000         0       ... -0.1021645   \n",
       "5 0                      14174000         0       ... -0.1081213   \n",
       "6 0                      32636000         0       ... -0.1172065   \n",
       "  Margem_Operacional Margem_Liquida Retorno_Sobre_Ativo_Total Retorno_Sobre_PL\n",
       "1 -0.3362686         -0.34044294    -0.98771464               -4.69865516     \n",
       "2 -0.2630557         -0.26224839    -0.25575244               -0.32848167     \n",
       "3 -0.1779898         -0.17798980    -0.11570674               -0.13653985     \n",
       "4 -0.1004741         -0.10047410    -0.08465946               -0.10594303     \n",
       "5 -0.1071309         -0.10260783    -0.06103572               -0.07586532     \n",
       "6 -0.1049059         -0.09308617    -0.04747608               -0.05436810     \n",
       "  Payout Retention_Rate Ratings Agência                    Rating.Label\n",
       "1 0      1              BB-     EGAN-JONES RATINGS COMPANY REGULAR     \n",
       "2 0      1              BB-     EGAN-JONES RATINGS COMPANY REGULAR     \n",
       "3 0      1              BBB-    EGAN-JONES RATINGS COMPANY STRONG      \n",
       "4 0      1              BBB-    EGAN-JONES RATINGS COMPANY STRONG      \n",
       "5 0      1              BBB-    EGAN-JONES RATINGS COMPANY STRONG      \n",
       "6 0      1              BBB-    EGAN-JONES RATINGS COMPANY STRONG      "
      ]
     },
     "metadata": {},
     "output_type": "display_data"
    }
   ],
   "source": [
    "for (i in 1:length(balancos[,1])){\n",
    "  if (balancos$Ratings[i]==\"AAA\" |\n",
    "      balancos$Ratings[i]==\"AA+\" |\n",
    "      balancos$Ratings[i]==\"AA1\"|\n",
    "      balancos$Ratings[i]==\"AA2\"|\n",
    "      balancos$Ratings[i]==\"AA3\"|\n",
    "      balancos$Ratings[i]==\"AA\"|\n",
    "      balancos$Ratings[i]==\"AA-\"){\n",
    "    balancos$`Rating Label`[i]=\"EXTREMLY STRONG\"\n",
    "  }\n",
    "  else if (balancos$Ratings[i]==\"A+\" |\n",
    "           balancos$Ratings[i]==\"A\" |\n",
    "           balancos$Ratings[i]==\"A-\"|\n",
    "           balancos$Ratings[i]==\"A1\"|\n",
    "           balancos$Ratings[i]==\"A2\"|\n",
    "           balancos$Ratings[i]==\"A3\"|\n",
    "           balancos$Ratings[i]==\"BBB+\"|\n",
    "           balancos$Ratings[i]==\"BBB\" |\n",
    "           balancos$Ratings[i]==\"BBB-\"|\n",
    "           balancos$Ratings[i]==\"BAA1\"|\n",
    "           balancos$Ratings[i]==\"BAA2\"|\n",
    "           balancos$Ratings[i]==\"BAA3\"){\n",
    "    balancos$`Rating Label`[i]=\"STRONG\"\n",
    "  }\n",
    "  else if (balancos$Ratings[i]==\"BB+\" |\n",
    "           balancos$Ratings[i]==\"BB\" |\n",
    "           balancos$Ratings[i]==\"BB-\"|\n",
    "           balancos$Ratings[i]==\"BA1\"|\n",
    "           balancos$Ratings[i]==\"BA2\"|\n",
    "           balancos$Ratings[i]==\"BA3\"|\n",
    "           balancos$Ratings[i]==\"B+\"|\n",
    "           balancos$Ratings[i]==\"B\" |\n",
    "           balancos$Ratings[i]==\"B-\"|\n",
    "           balancos$Ratings[i]==\"B1\"|\n",
    "           balancos$Ratings[i]==\"B2\"|\n",
    "           balancos$Ratings[i]==\"B3\"){\n",
    "    balancos$`Rating Label`[i]=\"REGULAR\"\n",
    "  }\n",
    "  else if (balancos$Ratings[i]==\"CCC+\" |\n",
    "           balancos$Ratings[i]==\"CCC\" |\n",
    "           balancos$Ratings[i]==\"CCC-\"|\n",
    "           balancos$Ratings[i]==\"CAA1\"|\n",
    "           balancos$Ratings[i]==\"CAA2\"|\n",
    "           balancos$Ratings[i]==\"CAA3\"){\n",
    "    balancos$`Rating Label`[i]=\"WEAK\"\n",
    "  }\n",
    "  else if (balancos$Ratings[i]==\"CC\"  |\n",
    "           balancos$Ratings[i]==\"C\" |\n",
    "           balancos$Ratings[i]==\"D\"|\n",
    "           balancos$Ratings[i]==\"CA\"){\n",
    "    balancos$`Rating Label`[i]=\"EXTREMELY WEAK\"\n",
    "  }\n",
    "}\n",
    "\n",
    "write.xlsx(balancos, \"labels.xlsx\")\n",
    "head(balancos)"
   ]
  }
 ],
 "metadata": {
  "kernelspec": {
   "display_name": "R",
   "language": "R",
   "name": "python397jvsc74a57bd0b3ba2566441a7c06988d0923437866b63cedc61552a5af99d1f4fb67d367b25f"
  },
  "language_info": {
   "codemirror_mode": "r",
   "file_extension": ".r",
   "mimetype": "text/x-r-source",
   "name": "R",
   "pygments_lexer": "r",
   "version": "3.6.1"
  },
  "orig_nbformat": 4
 },
 "nbformat": 4,
 "nbformat_minor": 2
}
